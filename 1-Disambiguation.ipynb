{
 "cells": [
  {
   "cell_type": "markdown",
   "metadata": {},
   "source": [
    "The first step in any data science project is cleaning the data.  Web of Science records are about as good as bibliographic data gets, but good is not yet perfect.  In particular, WoS records a problem with ambiguous researcher names.  We know that 'John Smith' and 'John L Smith' and 'John L. Smith' are probably all the same person, but computers see those as different strings.\n",
    "\n",
    "In general, disambiguation is challenge in any data science project where entities are identified by non-unique records, like ordinary names, or errors are introduced into the data stream through a manual entry point.  I looked at some Python libraries that handle disambiguation, but they didn't seem precisely suited for this project. I absolutely need to avoid improperly combining records for different scientists, the data is small enough that I can clean it by hand (with a little assistance), and the ambiguities have some pretty regular patterns.\n",
    "\n",
    "The most common problems are:\n",
    "* A scientist is inconsistent in use of a middle initial\n",
    "* A scientist is referred to by a nickname\n",
    "* A scientist's first name is misspelled in one instance \n",
    "\n",
    "I'm reusing some older code, so this is not as elegant as I'd like. But the best code is code that runs."
   ]
  },
  {
   "cell_type": "code",
   "execution_count": 117,
   "metadata": {},
   "outputs": [],
   "source": [
    "import metaknowledge as mk\n",
    "import pandas as pd\n",
    "import os"
   ]
  },
  {
   "cell_type": "markdown",
   "metadata": {},
   "source": [
    "Quickly check that we are in a directory called RCs that is a child of the project directory, which stores all the record collections that we downloaded.  For reasons of confidentiality, I won't share the actual data, but I've included a test collection of papers by 2018 Nobel Laureate in Physics Kip Thorne (savedrecsKP.txt), who is inconsistent about using his middle initial 'S'.  Kip Thorne has 15 papers, and my dataset for this project is 1628 papers. "
   ]
  },
  {
   "cell_type": "code",
   "execution_count": 118,
   "metadata": {},
   "outputs": [
    {
     "name": "stdout",
     "output_type": "stream",
     "text": [
      "/home/michael/OneDrive/ds/metis/lol18_ids4/project\n",
      "/home/michael/OneDrive/ds/metis/lol18_ids4/project/RCs\n"
     ]
    }
   ],
   "source": [
    "print(os.getcwd())\n",
    "\n",
    "path = 'RCs'\n",
    "os.chdir(path)\n",
    "print(os.getcwd())"
   ]
  },
  {
   "cell_type": "markdown",
   "metadata": {},
   "source": [
    "We initialize our record, and create and check a dataframe called people that lists all our authors and how many paper's they've published."
   ]
  },
  {
   "cell_type": "code",
   "execution_count": 119,
   "metadata": {},
   "outputs": [
    {
     "data": {
      "text/html": [
       "<div>\n",
       "<style scoped>\n",
       "    .dataframe tbody tr th:only-of-type {\n",
       "        vertical-align: middle;\n",
       "    }\n",
       "\n",
       "    .dataframe tbody tr th {\n",
       "        vertical-align: top;\n",
       "    }\n",
       "\n",
       "    .dataframe thead th {\n",
       "        text-align: right;\n",
       "    }\n",
       "</style>\n",
       "<table border=\"1\" class=\"dataframe\">\n",
       "  <thead>\n",
       "    <tr style=\"text-align: right;\">\n",
       "      <th></th>\n",
       "      <th>entry</th>\n",
       "      <th>count</th>\n",
       "    </tr>\n",
       "    <tr>\n",
       "      <th>names</th>\n",
       "      <th></th>\n",
       "      <th></th>\n",
       "    </tr>\n",
       "  </thead>\n",
       "  <tbody>\n",
       "    <tr>\n",
       "      <th>ADERMANN, K</th>\n",
       "      <td>ADERMANN, K</td>\n",
       "      <td>1</td>\n",
       "    </tr>\n",
       "    <tr>\n",
       "      <th>ALBERS, J</th>\n",
       "      <td>ALBERS, J</td>\n",
       "      <td>1</td>\n",
       "    </tr>\n",
       "    <tr>\n",
       "      <th>AUSTERMANN, S</th>\n",
       "      <td>AUSTERMANN, S</td>\n",
       "      <td>1</td>\n",
       "    </tr>\n",
       "    <tr>\n",
       "      <th>Aagaard, Kjersti</th>\n",
       "      <td>Aagaard, Kjersti</td>\n",
       "      <td>1</td>\n",
       "    </tr>\n",
       "    <tr>\n",
       "      <th>Aaron, Holly L.</th>\n",
       "      <td>Aaron, Holly L.</td>\n",
       "      <td>1</td>\n",
       "    </tr>\n",
       "  </tbody>\n",
       "</table>\n",
       "</div>"
      ],
      "text/plain": [
       "                             entry  count\n",
       "names                                    \n",
       "ADERMANN, K            ADERMANN, K      1\n",
       "ALBERS, J                ALBERS, J      1\n",
       "AUSTERMANN, S        AUSTERMANN, S      1\n",
       "Aagaard, Kjersti  Aagaard, Kjersti      1\n",
       "Aaron, Holly L.    Aaron, Holly L.      1"
      ]
     },
     "execution_count": 119,
     "metadata": {},
     "output_type": "execute_result"
    }
   ],
   "source": [
    "RC = mk.RecordCollection(\".\")\n",
    "people = mk.CollectionWithIDs.rankedSeries(RC, tag='AF', giveCounts=True)\n",
    "\n",
    "people = pd.DataFrame.from_dict(people, orient=\"columns\")\n",
    "people= people.sort_values('entry')\n",
    "people['names']=people['entry']\n",
    "people.set_index(['names'], inplace=True)\n",
    "people.drop(['rank'], axis=1, inplace=True)\n",
    "people.head()"
   ]
  },
  {
   "cell_type": "markdown",
   "metadata": {},
   "source": [
    "This function is at the heart of disambiguation.  Last names are usually correct, with errors concentrated in the first names. So we transform a string of the form \"Lastname, Firstname\" into \"Lastname F\", and if two transformed names are equivalent, we have a possible ambiguity.\n",
    "\n",
    "This leads to false positives with common last names, so we need to manually check the process."
   ]
  },
  {
   "cell_type": "code",
   "execution_count": 120,
   "metadata": {},
   "outputs": [],
   "source": [
    "def LastnameF (fullname) :\n",
    "    name = fullname.split(' ')\n",
    "    try :\n",
    "        name = name[0] + ' '+ name[1][0]\n",
    "    except :\n",
    "        name = name[0]\n",
    "    return name"
   ]
  },
  {
   "cell_type": "markdown",
   "metadata": {},
   "source": [
    "The code looks hacky, but it's actually fairly clever. mk.CollectionWithIDs.rankedSeries returns an alphabetized list of names, i.e. of the form\n",
    "\n",
    "* Smith, Jon\n",
    "* Smith, Jon L.\n",
    "* Smith, Jonathan L.\n",
    "\n",
    "Generally academics use their full name and initial, i.e the longest version of their name, and we should try and do the same. Starting as the bottom of our dataframe (row i) we see if the LastnameF format matches the LastnameF of next row up (row k), and if it does, we suggest that the name should be changed, decrement k, and check again, until they no longer match, at which point row i becomes row k.\n",
    "\n",
    "This outputs a file called disamhelp.csv, which indicates possible ambiguous names and their suggested replacement."
   ]
  },
  {
   "cell_type": "code",
   "execution_count": 121,
   "metadata": {},
   "outputs": [],
   "source": [
    "people['suggested']=''\n",
    "\n",
    "i = len(people) -1\n",
    "\n",
    "while i > 1 :\n",
    "    k = i - 1\n",
    "    while LastnameF(people.iloc[i,0]) == LastnameF(people.iloc[k,0]) :\n",
    "        people.iloc[i, 2] = people.iloc[i, 0]\n",
    "        people.iloc[k, 2] = people.iloc[i, 0]\n",
    "        k = k - 1\n",
    "    i = k\n",
    "    \n",
    "people.to_csv('disamhelp.csv', index=False)"
   ]
  },
  {
   "cell_type": "markdown",
   "metadata": {},
   "source": [
    "Now it's easy enough to through disamhelp and see which names are ambiguous.  It takes about 15 minutes to check the file by hand.  At the end, you should have a spreadsheet where the first column is an ambiguous name, and the second column is the replacement.\n",
    "\n",
    "Something that looks like this:\n",
    "\n",
    "|entry              |count| suggested\n",
    "|-------------------|-----|--------------|\n",
    "|Smith, Jennifer    |7    |                   |\n",
    "|Smith, Jon         |1    |Smith, Jonathan L. |\n",
    "|Smith, Jon L.      |3    |Smith, Jonathan L. |\n",
    "|Smith, Jonathan L. |15   |Smith, Jonathan L. |\n",
    "\n",
    "Should become something that looks like this:\n",
    "You have to delete the row with Jennifer, and everybody with a correct name, because otherwise you'll disambiguate them to the empty string.\n",
    "\n",
    "|entry              | suggested\n",
    "|-------------------|--------------|\n",
    "|Smith, Jon         |Smith, Jonathan L. |\n",
    "|Smith, Jon L.      |Smith, Jonathan L. |\n",
    "|Smith, Jonathan L. |Smith, Jonathan L. |\n",
    "\n",
    "Save the new spreadsheet as DISAMBIG.csv"
   ]
  },
  {
   "cell_type": "markdown",
   "metadata": {},
   "source": [
    "Metaknowledge is great, but it's one flaw is that objects stored as a Metaknowledge record are immutable.  Which means that to disambiguate, we need to export the record collection as a text file (ARECORD.txt), reload it, and then go through it line by line, and if any line matches one of the names ot be disambiguated, disambiguate it.  Then we save the new file as BRECORD.txt, which we'll use as our clean dataset going forward."
   ]
  },
  {
   "cell_type": "code",
   "execution_count": 122,
   "metadata": {},
   "outputs": [
    {
     "name": "stdout",
     "output_type": "stream",
     "text": [
      "number of papers in sample\n",
      "1692\n"
     ]
    }
   ],
   "source": [
    "mk.RecordCollection.writeFile(RC, \"ARECORD.TXT\")\n",
    "with open(\"ARECORD.TXT\", \"r\", encoding=\"utf8\") as file :\n",
    "    data = file.readlines()\n",
    "\n",
    "disambig = {}\n",
    "newdata = str()\n",
    "count =0\n",
    "afcount = 0\n",
    "\n",
    "df = pd.read_csv('DISAMBIG.csv', header=None)\n",
    "\n",
    "for row in df.itertuples():\n",
    "    disambig[row[1]] = row[2]\n",
    "\n",
    "for line in data :\n",
    "    if line.strip() in disambig :\n",
    "        author = line.strip()\n",
    "        newline = line.replace(author, disambig[author])\n",
    "        newdata = newdata + newline\n",
    "        count = count +1\n",
    "    elif line.startswith('AF') and line.lstrip('AF').strip() in disambig :\n",
    "        author = line.lstrip('AF').strip()\n",
    "        newauthor = author.replace(author, disambig[author])\n",
    "        newline = 'AF '+ newauthor +'\\n'\n",
    "        newdata = newdata + newline\n",
    "        afcount = afcount + 1\n",
    "    elif line.startswith('WC') :\n",
    "        newlinelist = []\n",
    "        WCS = line.split(';')\n",
    "        for item in WCS :\n",
    "            if item in disambig :\n",
    "                newlinelist = newlinelist + disambig[item]\n",
    "            else :\n",
    "                newlinelist = newlinelist + [item]\n",
    "        newline = ';'.join(newlinelist)\n",
    "        newdata = newdata + line\n",
    "    else :\n",
    "        newdata = newdata + line\n",
    "\n",
    "os.chdir('..')        \n",
    "        \n",
    "fh = open(\"BRECORD.txt\", \"w\", encoding=\"utf8\")\n",
    "for line in newdata :\n",
    "    fh.write(line)\n",
    "fh.close()\n",
    "\n",
    "RC = mk.RecordCollection(\"BRECORD.txt\")\n",
    "print('number of papers in sample')\n",
    "print(len(RC))"
   ]
  },
  {
   "cell_type": "markdown",
   "metadata": {},
   "source": [
    "Finally, while we have a few thousand authors in our dataset, we only really care about a handful of them, which I've saved in a file Tags.csv, in the parent directory of RCs.  \n",
    "\n",
    "However, we need to check that we use the same names in Tags.csv as we do in the disambiguated dataset.  This last cell uses the disambiguation code to check that our tagged authors correspond to the right people in the dataset, and outputs a Taghelper.csv file that you can use to check everything is okay. I've also printed the lines which might cause a problem.\n",
    "\n",
    "This is not great code, but it works."
   ]
  },
  {
   "cell_type": "code",
   "execution_count": 123,
   "metadata": {},
   "outputs": [
    {
     "name": "stdout",
     "output_type": "stream",
     "text": [
      "['Li, Baoxin', ' may be ', \"['Li, Baoxin', 'Li, Bing']\", 'Check']\n",
      "['Maser, Joe', ' may be ', 'IS NOT FOUND', 'Check']\n",
      "['Rueter, John', ' may be ', 'IS NOT FOUND', 'Check']\n",
      "['Schulz, Cristof', ' may be ', \"['Schulz, Christian', 'Schulz, Christof']\", 'Check']\n"
     ]
    }
   ],
   "source": [
    "people = mk.CollectionWithIDs.rankedSeries(RC, tag='AF', giveCounts=True)\n",
    "people = pd.DataFrame.from_dict(people, orient=\"columns\")\n",
    "people= people.sort_values('entry')\n",
    "people['names']=people['entry']\n",
    "people.set_index(['names'], inplace=True)\n",
    "people.drop(['rank'], axis=1, inplace=True)\n",
    "\n",
    "import csv\n",
    "\n",
    "Tags = pd.read_csv('Tags.csv', encoding=\"latin-1\")\n",
    "\n",
    "taghelper = []\n",
    "\n",
    "people['shortened']=people.entry.apply(LastnameF)\n",
    "people = people.set_index(['shortened'])\n",
    "\n",
    "for index, row in Tags.iterrows() :\n",
    "    member = LastnameF(row['Name'])\n",
    "    try :\n",
    "        aliases = people.loc[member,'entry'].tolist()\n",
    "    except AttributeError:\n",
    "        aliases = people.loc[member,'entry']\n",
    "    except KeyError:\n",
    "        aliases = 'IS NOT FOUND'\n",
    "    taghelper.append([row['Name']] + [' may be '] + [str(aliases)])\n",
    "\n",
    "for line in taghelper :\n",
    "    if line[0] != line[2] :\n",
    "        line.append('Check')\n",
    "        print(line)\n",
    "\n",
    "outputFile = open('TagHelper.csv', 'w', newline='')\n",
    "outputWriter = csv.writer(outputFile)\n",
    "for line in taghelper:\n",
    "    outputWriter.writerow(line)\n",
    "outputFile.close()"
   ]
  }
 ],
 "metadata": {
  "kernelspec": {
   "display_name": "Python 3",
   "language": "python",
   "name": "python3"
  },
  "language_info": {
   "codemirror_mode": {
    "name": "ipython",
    "version": 3
   },
   "file_extension": ".py",
   "mimetype": "text/x-python",
   "name": "python",
   "nbconvert_exporter": "python",
   "pygments_lexer": "ipython3",
   "version": "3.6.5"
  }
 },
 "nbformat": 4,
 "nbformat_minor": 2
}
