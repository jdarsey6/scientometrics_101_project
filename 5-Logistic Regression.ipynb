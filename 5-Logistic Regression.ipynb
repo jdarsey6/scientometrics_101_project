{
 "cells": [
  {
   "attachments": {},
   "cell_type": "markdown",
   "metadata": {},
   "source": [
    "Last time, we proved that there was an increase in the Sterling Diversity Index for papers published by a group after an IGERT was awarded.  But that is basic statistics, not data science.  It turns out that along with the 3139 papers that were published by the five IGERT groups in my sample, I have 307 papers which aren't affiliated with any group.  I'm not sure how that happened, but it provides a useful finale to the project.  Can I fairly assign each of the 307 error papers to one of my five IGERT groups?\n",
    "\n",
    "Each of the five IGERTs works on its own research topic, so to do this, we need to find a data science method to figure out what the topics of the five groups are, and assign new cases to each group with some degree of certainty. This sounds a lot like good case for logistic regression to me.  To do this, I've expanded the data with the citation categories for each paper, which I used to calculate the Stirling Diversity Index. It that looks like this, extended out through the 224 Web of Science subject categories.\n",
    "\n",
    "|Unknown|\tBIOLOGY|\tMATHEMATICAL & COMPUTATIONAL BIOLOGY|\tSTATISTICS & PROBABILITY|\tENGINEERING, ELECTRICAL & ELECTRONIC|\tCOMPUTER SCIENCE, ARTIFICIAL INTELLIGENCE|\tROBOTICS|\tTELECOMMUNICATIONS|...|\n",
    "|---|---|---|---|---|---|---|---|---\n",
    "|9|1|1||\t\t12||||\t\t\t1|"
   ]
  },
  {
   "cell_type": "code",
   "execution_count": 1,
   "metadata": {},
   "outputs": [],
   "source": [
    "import pandas as pd\n",
    "import numpy as np\n",
    "import seaborn as sns\n",
    "import matplotlib.pyplot as plt\n",
    "%matplotlib inline"
   ]
  },
  {
   "cell_type": "code",
   "execution_count": 2,
   "metadata": {},
   "outputs": [
    {
     "data": {
      "text/html": [
       "<div>\n",
       "<style scoped>\n",
       "    .dataframe tbody tr th:only-of-type {\n",
       "        vertical-align: middle;\n",
       "    }\n",
       "\n",
       "    .dataframe tbody tr th {\n",
       "        vertical-align: top;\n",
       "    }\n",
       "\n",
       "    .dataframe thead th {\n",
       "        text-align: right;\n",
       "    }\n",
       "</style>\n",
       "<table border=\"1\" class=\"dataframe\">\n",
       "  <thead>\n",
       "    <tr style=\"text-align: right;\">\n",
       "      <th></th>\n",
       "      <th>alias</th>\n",
       "      <th>first_author</th>\n",
       "      <th>group</th>\n",
       "      <th>group_start</th>\n",
       "      <th>number_authors</th>\n",
       "      <th>sdi</th>\n",
       "      <th>times_cited</th>\n",
       "      <th>journal</th>\n",
       "      <th>pub_year</th>\n",
       "      <th>velocity</th>\n",
       "      <th>...</th>\n",
       "      <th>HISTORY OF SOCIAL SCIENCES</th>\n",
       "      <th>LITERATURE</th>\n",
       "      <th>LOGIC</th>\n",
       "      <th>LANGUAGE &amp; LINGUISTICS</th>\n",
       "      <th>LITERARY THEORY &amp; CRITICISM</th>\n",
       "      <th>LITERARY REVIEWS</th>\n",
       "      <th>FOLKLORE</th>\n",
       "      <th>CLASSICS</th>\n",
       "      <th>MUSIC</th>\n",
       "      <th>MEDIEVAL &amp; RENAISSANCE STUDIES</th>\n",
       "    </tr>\n",
       "  </thead>\n",
       "  <tbody>\n",
       "    <tr>\n",
       "      <th>0</th>\n",
       "      <td>T3015</td>\n",
       "      <td>False</td>\n",
       "      <td>E</td>\n",
       "      <td>2011</td>\n",
       "      <td>5</td>\n",
       "      <td>0.453791</td>\n",
       "      <td>9</td>\n",
       "      <td>MACROMOLECULES</td>\n",
       "      <td>2014</td>\n",
       "      <td>2.250000</td>\n",
       "      <td>...</td>\n",
       "      <td>NaN</td>\n",
       "      <td>NaN</td>\n",
       "      <td>NaN</td>\n",
       "      <td>NaN</td>\n",
       "      <td>NaN</td>\n",
       "      <td>NaN</td>\n",
       "      <td>NaN</td>\n",
       "      <td>NaN</td>\n",
       "      <td>NaN</td>\n",
       "      <td>NaN</td>\n",
       "    </tr>\n",
       "    <tr>\n",
       "      <th>1</th>\n",
       "      <td>T1954</td>\n",
       "      <td>True</td>\n",
       "      <td>E</td>\n",
       "      <td>2011</td>\n",
       "      <td>6</td>\n",
       "      <td>0.578180</td>\n",
       "      <td>7</td>\n",
       "      <td>BIOMACROMOLECULES</td>\n",
       "      <td>2014</td>\n",
       "      <td>1.750000</td>\n",
       "      <td>...</td>\n",
       "      <td>NaN</td>\n",
       "      <td>NaN</td>\n",
       "      <td>NaN</td>\n",
       "      <td>NaN</td>\n",
       "      <td>NaN</td>\n",
       "      <td>NaN</td>\n",
       "      <td>NaN</td>\n",
       "      <td>NaN</td>\n",
       "      <td>NaN</td>\n",
       "      <td>NaN</td>\n",
       "    </tr>\n",
       "    <tr>\n",
       "      <th>2</th>\n",
       "      <td>T1144</td>\n",
       "      <td>False</td>\n",
       "      <td>D</td>\n",
       "      <td>2010</td>\n",
       "      <td>4</td>\n",
       "      <td>0.288167</td>\n",
       "      <td>15</td>\n",
       "      <td>TEACH. SOCIOL.</td>\n",
       "      <td>2012</td>\n",
       "      <td>2.500000</td>\n",
       "      <td>...</td>\n",
       "      <td>NaN</td>\n",
       "      <td>NaN</td>\n",
       "      <td>NaN</td>\n",
       "      <td>NaN</td>\n",
       "      <td>NaN</td>\n",
       "      <td>NaN</td>\n",
       "      <td>NaN</td>\n",
       "      <td>NaN</td>\n",
       "      <td>NaN</td>\n",
       "      <td>NaN</td>\n",
       "    </tr>\n",
       "    <tr>\n",
       "      <th>3</th>\n",
       "      <td>T2953</td>\n",
       "      <td>False</td>\n",
       "      <td>C</td>\n",
       "      <td>2009</td>\n",
       "      <td>6</td>\n",
       "      <td>0.204894</td>\n",
       "      <td>925</td>\n",
       "      <td>ADV. FUNCT. MATER.</td>\n",
       "      <td>2007</td>\n",
       "      <td>84.090909</td>\n",
       "      <td>...</td>\n",
       "      <td>NaN</td>\n",
       "      <td>NaN</td>\n",
       "      <td>NaN</td>\n",
       "      <td>NaN</td>\n",
       "      <td>NaN</td>\n",
       "      <td>NaN</td>\n",
       "      <td>NaN</td>\n",
       "      <td>NaN</td>\n",
       "      <td>NaN</td>\n",
       "      <td>NaN</td>\n",
       "    </tr>\n",
       "    <tr>\n",
       "      <th>4</th>\n",
       "      <td>T1635</td>\n",
       "      <td>True</td>\n",
       "      <td>A</td>\n",
       "      <td>2011</td>\n",
       "      <td>2</td>\n",
       "      <td>0.376589</td>\n",
       "      <td>4</td>\n",
       "      <td>J. APPL. RES. INTELLECT. DISABIL.</td>\n",
       "      <td>2017</td>\n",
       "      <td>4.000000</td>\n",
       "      <td>...</td>\n",
       "      <td>NaN</td>\n",
       "      <td>NaN</td>\n",
       "      <td>NaN</td>\n",
       "      <td>NaN</td>\n",
       "      <td>NaN</td>\n",
       "      <td>1.0</td>\n",
       "      <td>NaN</td>\n",
       "      <td>NaN</td>\n",
       "      <td>NaN</td>\n",
       "      <td>NaN</td>\n",
       "    </tr>\n",
       "  </tbody>\n",
       "</table>\n",
       "<p>5 rows × 254 columns</p>\n",
       "</div>"
      ],
      "text/plain": [
       "   alias  first_author group group_start  number_authors       sdi  \\\n",
       "0  T3015         False     E        2011               5  0.453791   \n",
       "1  T1954          True     E        2011               6  0.578180   \n",
       "2  T1144         False     D        2010               4  0.288167   \n",
       "3  T2953         False     C        2009               6  0.204894   \n",
       "4  T1635          True     A        2011               2  0.376589   \n",
       "\n",
       "   times_cited                            journal  pub_year   velocity  \\\n",
       "0            9                     MACROMOLECULES      2014   2.250000   \n",
       "1            7                  BIOMACROMOLECULES      2014   1.750000   \n",
       "2           15                     TEACH. SOCIOL.      2012   2.500000   \n",
       "3          925                 ADV. FUNCT. MATER.      2007  84.090909   \n",
       "4            4  J. APPL. RES. INTELLECT. DISABIL.      2017   4.000000   \n",
       "\n",
       "                ...               HISTORY OF SOCIAL SCIENCES  LITERATURE  \\\n",
       "0               ...                                      NaN         NaN   \n",
       "1               ...                                      NaN         NaN   \n",
       "2               ...                                      NaN         NaN   \n",
       "3               ...                                      NaN         NaN   \n",
       "4               ...                                      NaN         NaN   \n",
       "\n",
       "   LOGIC  LANGUAGE & LINGUISTICS  LITERARY THEORY & CRITICISM  \\\n",
       "0    NaN                     NaN                          NaN   \n",
       "1    NaN                     NaN                          NaN   \n",
       "2    NaN                     NaN                          NaN   \n",
       "3    NaN                     NaN                          NaN   \n",
       "4    NaN                     NaN                          NaN   \n",
       "\n",
       "   LITERARY REVIEWS  FOLKLORE  CLASSICS  MUSIC  MEDIEVAL & RENAISSANCE STUDIES  \n",
       "0               NaN       NaN       NaN    NaN                             NaN  \n",
       "1               NaN       NaN       NaN    NaN                             NaN  \n",
       "2               NaN       NaN       NaN    NaN                             NaN  \n",
       "3               NaN       NaN       NaN    NaN                             NaN  \n",
       "4               1.0       NaN       NaN    NaN                             NaN  \n",
       "\n",
       "[5 rows x 254 columns]"
      ]
     },
     "execution_count": 2,
     "metadata": {},
     "output_type": "execute_result"
    }
   ],
   "source": [
    "data = pd.read_csv('5-scientometrics101-cites.csv')\n",
    "data.head()"
   ]
  },
  {
   "cell_type": "markdown",
   "metadata": {},
   "source": [
    "We import LogisticRegression and some the usual data wrangling packages, then set up our X to be all the citation categories of papers not in the ERROR group, and y to be the group that they are actually in."
   ]
  },
  {
   "cell_type": "code",
   "execution_count": 166,
   "metadata": {},
   "outputs": [
    {
     "data": {
      "text/plain": [
       "LogisticRegression(C=100.0, class_weight=None, dual=False, fit_intercept=True,\n",
       "          intercept_scaling=1, max_iter=100, multi_class='ovr', n_jobs=1,\n",
       "          penalty='l2', random_state=1, solver='liblinear', tol=0.0001,\n",
       "          verbose=0, warm_start=False)"
      ]
     },
     "execution_count": 166,
     "metadata": {},
     "output_type": "execute_result"
    }
   ],
   "source": [
    "from sklearn.model_selection import train_test_split\n",
    "from sklearn.preprocessing import StandardScaler\n",
    "from sklearn.linear_model import LogisticRegression\n",
    "\n",
    "data2=data[data.group != 'ERROR']\n",
    "\n",
    "X = data2.iloc[:,11:]\n",
    "X.fillna(0, inplace=True)\n",
    "y = data2.loc[:,'group']\n",
    "\n",
    "X_train, X_test, y_train, y_test =train_test_split(\n",
    "    X, y, test_size=0.3, random_state=10, stratify=y)\n",
    "\n",
    "sc = StandardScaler()\n",
    "sc.fit(X_train)\n",
    "X_train_std = sc.transform(X_train)\n",
    "X_test_std =sc.transform(X_test)\n",
    "\n",
    "lr = LogisticRegression(C=100.0, random_state=1)\n",
    "lr.fit(X_train_std, y_train)"
   ]
  },
  {
   "cell_type": "markdown",
   "metadata": {},
   "source": [
    "Our accuracy is 0.72, which is acceptably above chance, 0.2 in this case. I tried changing the hyperparameters, and a support vector machine, and couldn't get higher accuracy."
   ]
  },
  {
   "cell_type": "code",
   "execution_count": 170,
   "metadata": {},
   "outputs": [
    {
     "data": {
      "text/plain": [
       "0.7261146496815286"
      ]
     },
     "execution_count": 170,
     "metadata": {},
     "output_type": "execute_result"
    }
   ],
   "source": [
    "lr.score(X_test_std, y_test)"
   ]
  },
  {
   "cell_type": "markdown",
   "metadata": {},
   "source": [
    "Let's inspect the confusion matrix, to see where we're guessing wrong.  It's clear that in terms of raw numbers, papers from Group C dominate, and we have trouble distinguishing papers in Group B and Group E from those in group C. This makes sense, since all I know from my prior investifation those three groups work in nanotechnology, among other things.  It is plausible that there is research on something fundamental, like the properties of carbon nanotubes, which all three groups contribute to."
   ]
  },
  {
   "cell_type": "code",
   "execution_count": 171,
   "metadata": {},
   "outputs": [
    {
     "name": "stdout",
     "output_type": "stream",
     "text": [
      "[[ 55   7  16   8   3]\n",
      " [  7  99  58   1  12]\n",
      " [  4  16 359   4  21]\n",
      " [  6   4  20  92   6]\n",
      " [  3   8  54   0  79]]\n"
     ]
    },
    {
     "data": {
      "image/png": "[encoded data removed]",
      "text/plain": [
       "<Figure size 432x288 with 2 Axes>"
      ]
     },
     "metadata": {},
     "output_type": "display_data"
    }
   ],
   "source": [
    "from sklearn.metrics import confusion_matrix\n",
    "\n",
    "conf_mat = confusion_matrix(y_test, lr.predict(X_test_std))\n",
    "print (conf_mat)\n",
    "\n",
    "from sklearn.preprocessing import normalize\n",
    "\n",
    "normed_conf = normalize(conf_mat, axis=1, norm='l1')\n",
    "normed_conf = pd.DataFrame(normed_conf)\n",
    "normed_conf.columns = ['A','B','C','D', 'E']\n",
    "normed_conf['index']=['A','B','C','D', 'E']\n",
    "normed_conf.set_index(['index'], inplace=True)\n",
    "normed_conf\n",
    "\n",
    "fig = sns.heatmap(normed_conf, cmap='Blues', annot=True)"
   ]
  },
  {
   "cell_type": "markdown",
   "metadata": {},
   "source": [
    "And finally, we grab the ERROR papers and run them through the linear regression to see that most of them belong to group C."
   ]
  },
  {
   "cell_type": "code",
   "execution_count": 172,
   "metadata": {},
   "outputs": [
    {
     "name": "stdout",
     "output_type": "stream",
     "text": [
      "A 8\n",
      "B 0\n",
      "C 280\n",
      "D 13\n",
      "E 6\n"
     ]
    }
   ],
   "source": [
    "data3=data[data.group == 'ERROR']\n",
    "X3 = data3.iloc[:,11:]\n",
    "X3.fillna(0, inplace=True)\n",
    "X3_std = sc.transform(X3)\n",
    "guesses = list(lr.predict(X3))\n",
    "\n",
    "for group in ['A','B','C','D', 'E']:\n",
    "    print(group, guesses.count(group))"
   ]
  }
 ],
 "metadata": {
  "kernelspec": {
   "display_name": "Python 3",
   "language": "python",
   "name": "python3"
  },
  "language_info": {
   "codemirror_mode": {
    "name": "ipython",
    "version": 3
   },
   "file_extension": ".py",
   "mimetype": "text/x-python",
   "name": "python",
   "nbconvert_exporter": "python",
   "pygments_lexer": "ipython3",
   "version": "3.6.5"
  }
 },
 "nbformat": 4,
 "nbformat_minor": 2
}
