{
 "cells": [
  {
   "cell_type": "markdown",
   "metadata": {},
   "source": [
    "I'm not going to annotate this notebook as heavily, because I don't intend to post it, but before we can do our EDA, we need our data in the follow format.\n",
    "\n",
    "Name | Alias | Papers | StartYear | Stirling Diversity Index | H-index"
   ]
  },
  {
   "cell_type": "code",
   "execution_count": 152,
   "metadata": {},
   "outputs": [
    {
     "name": "stdout",
     "output_type": "stream",
     "text": [
      "RecordCollection glimpse made at: 2018-07-23 21:03:22\n",
      "1692 Records from BRECORD\n",
      "\n",
      "Top Authors\n",
      "1 Kaner, Richard B. B.\n",
      "2 Daugherty, Alan\n",
      "3 Zink, Jeffrey I.\n",
      "4 Cassis, Lisa A.\n",
      "5 Kim, Chang-Jin\n",
      "6 Wiggers, Hartnnut\n",
      "7 Schulz, Christof\n",
      "8 Lu, Hong\n",
      "9 Howatt, Deborah A.\n",
      "\n",
      "Top Journals\n",
      "1 ABSTRACTS OF PAPERS OF THE AMERICAN CHEMICAL SOCIETY\n",
      "2 ARTERIOSCLEROSIS THROMBOSIS AND VASCULAR BIOLOGY\n",
      "3 JOURNAL OF THE AMERICAN CHEMICAL SOCIETY\n",
      "4 ACS NANO\n",
      "5 JOURNAL OF NEUROTRAUMA\n",
      "6 JOURNAL OF MICROELECTROMECHANICAL SYSTEMS\n",
      "7 JOURNAL OF APPLIED PHYSICS\n",
      "8 SMALL\n",
      "8 JOURNAL OF PHYSICAL CHEMISTRY C\n",
      "\n",
      "Top Cited\n",
      "1 Daugherty A, 2000, J CLIN INVEST, V105, P1605, DOI 10.1172/JCI7818\n",
      "2 Liong M, 2008, ACS NANO, V2, P889, DOI 10.1021/nn800072t\n",
      "3 Lu J, 2007, SMALL, V3, P1341, DOI 10.1002/smll.200700005\n",
      "3 Saraff K, 2003, ARTERIOSCL THROM VAS, V23, P1621, DOI 10.1161/01.ATV.000008563\n",
      "4 KRESGE CT, 1992, NATURE, V359, P710, DOI 10.1038/359710a0\n",
      "5 Daugherty A, 1999, ANN NY ACAD SCI, V892, P108, DOI 10.1111/j.1749-6632.1999.t\n",
      "6 Lu J, 2008, SMALL, V4, P421, DOI 10.1002/smll.200700903\n",
      "6 Chung HY, 2007, SCIENCE, V316, P436, DOI 10.1126/science.1139322\n",
      "7 Cassis LA, 2007, ARTERIOSCL THROM VAS, V27, P380, DOI 10.1161/01.ATV.000025468\n"
     ]
    }
   ],
   "source": [
    "import os\n",
    "import metaknowledge as mk\n",
    "import networkx as nx\n",
    "import pandas as pd\n",
    "import csv\n",
    "import math\n",
    "import numpy as np\n",
    "\n",
    "#import files to let us calculate Rao-Stirling diversity\n",
    "Cosciting = pd.read_csv('CosCiting.csv', sep=',', header=0, index_col=0)\n",
    "JournalCats = pd.read_excel('WoS History Nov 2017.xlsx', header=0)\n",
    "JournalCats.set_index('20 Char', inplace=True)\n",
    "\n",
    "os.chdir('RCs')\n",
    "\n",
    "#load up a record collection\n",
    "RC = mk.RecordCollection(\"BRECORD.txt\")\n",
    "\n",
    "os.chdir('..')\n",
    "\n",
    "#check that we've loaded it up\n",
    "print(RC.glimpse())"
   ]
  },
  {
   "cell_type": "code",
   "execution_count": 153,
   "metadata": {},
   "outputs": [
    {
     "name": "stdout",
     "output_type": "stream",
     "text": [
      "RecordCollection glimpse made at: 2018-07-23 21:03:23\n",
      "1692 Records from BRECORD\n",
      "\n",
      "Top Authors\n",
      "1 Kaner, Richard B. B.\n",
      "2 Daugherty, Alan\n",
      "3 Zink, Jeffrey I.\n",
      "4 Cassis, Lisa A.\n",
      "5 Kim, Chang-Jin\n",
      "6 Wiggers, Hartnnut\n",
      "7 Schulz, Christof\n",
      "8 Lu, Hong\n",
      "9 Howatt, Deborah A.\n",
      "\n",
      "Top Journals\n",
      "1 ABSTRACTS OF PAPERS OF THE AMERICAN CHEMICAL SOCIETY\n",
      "2 ARTERIOSCLEROSIS THROMBOSIS AND VASCULAR BIOLOGY\n",
      "3 JOURNAL OF THE AMERICAN CHEMICAL SOCIETY\n",
      "4 ACS NANO\n",
      "5 JOURNAL OF NEUROTRAUMA\n",
      "6 JOURNAL OF MICROELECTROMECHANICAL SYSTEMS\n",
      "7 JOURNAL OF APPLIED PHYSICS\n",
      "8 SMALL\n",
      "8 JOURNAL OF PHYSICAL CHEMISTRY C\n",
      "\n",
      "Top Cited\n",
      "1 Daugherty A, 2000, J CLIN INVEST, V105, P1605, DOI 10.1172/JCI7818\n",
      "2 Liong M, 2008, ACS NANO, V2, P889, DOI 10.1021/nn800072t\n",
      "3 Lu J, 2007, SMALL, V3, P1341, DOI 10.1002/smll.200700005\n",
      "3 Saraff K, 2003, ARTERIOSCL THROM VAS, V23, P1621, DOI 10.1161/01.ATV.000008563\n",
      "4 KRESGE CT, 1992, NATURE, V359, P710, DOI 10.1038/359710a0\n",
      "5 Daugherty A, 1999, ANN NY ACAD SCI, V892, P108, DOI 10.1111/j.1749-6632.1999.t\n",
      "6 Lu J, 2008, SMALL, V4, P421, DOI 10.1002/smll.200700903\n",
      "6 Chung HY, 2007, SCIENCE, V316, P436, DOI 10.1126/science.1139322\n",
      "7 Cassis LA, 2007, ARTERIOSCL THROM VAS, V27, P380, DOI 10.1161/01.ATV.000025468\n"
     ]
    }
   ],
   "source": [
    "print(RC.glimpse())"
   ]
  },
  {
   "cell_type": "markdown",
   "metadata": {},
   "source": [
    "here the clever part is df.to_dict('index'), which turns our dataframe into a dict of dicts structure, which will have some advantages in a bit with passing lists to functions.  Pandas is great, but getting dataframes composed of mixed strings, ints, and lists to work can be a little frustrating."
   ]
  },
  {
   "cell_type": "code",
   "execution_count": 154,
   "metadata": {},
   "outputs": [],
   "source": [
    "df = pd.read_csv(\"Tags.csv\", header=0)\n",
    "df.set_index(['name'], inplace=True)\n",
    "df.head()\n",
    "scientists = df.to_dict('index')\n",
    "\n",
    "for person in scientists:\n",
    "    scientists[person]['h_tracker'] = []\n",
    "    scientists[person]['titles'] = []"
   ]
  },
  {
   "cell_type": "markdown",
   "metadata": {},
   "source": [
    "This loop runs through all the records in our record collect, and then check all the authors.  If one of the authors is one of the scientists we care about, it then:\n",
    "\n",
    "* increments their papers by one\n",
    "* adds the title to their collection so we can use it to calculate the Rao-Stirling score\n",
    "* adds the number of times the paper has been cited to the h_tracker list\n",
    "* and if the paper is older than their current listed start_year, set the start year to that date. "
   ]
  },
  {
   "cell_type": "code",
   "execution_count": 155,
   "metadata": {},
   "outputs": [],
   "source": [
    "for R in RC:\n",
    "    for author in R['AF']:\n",
    "        if author in scientists:\n",
    "            scientists[author]['papers'] += 1\n",
    "            scientists[author]['titles'].append(R['TI'])\n",
    "            try:\n",
    "                scientists[author]['h_tracker'].append(R['TC'])\n",
    "            except:\n",
    "                pass\n",
    "            try:\n",
    "                if R['PY'] < scientists[author]['start_year']:\n",
    "                    scientists[author]['start_year'] = R['PY']\n",
    "            except:\n",
    "                pass"
   ]
  },
  {
   "cell_type": "code",
   "execution_count": 156,
   "metadata": {},
   "outputs": [],
   "source": [
    "#our two functions from last time\n",
    "\n",
    "#paperprep converts a record into the format\n",
    "#{Title:{WCs:{AAA:1,BBB:2...},Cites:{CCC:1, DDD:2...}}}\n",
    "#which calculates the Rao-Stirling index\n",
    "#to access a part, use titles[Title]['WCs'] or titles[Title]['Cites'] and titles[Title]['Year'] for publication year\n",
    "\n",
    "def PaperPrep(record, JournalCats):\n",
    "    title = record['TI']\n",
    "    try:\n",
    "        line=record['WC']\n",
    "    except:\n",
    "        line='Unknown'\n",
    "    dic = {}\n",
    "    for item in line:\n",
    "        if item.upper() in dic:\n",
    "            dic[item.upper()] = dic[item.upper()] + 1\n",
    "        else:\n",
    "            dic[item.upper()] = 1\n",
    "    WCs = dic\n",
    "\n",
    "    citeslist =[]\n",
    "    try:\n",
    "        for cite in record['CR']:\n",
    "            cite = str(cite)\n",
    "            try:\n",
    "                journal = cite.split(', ')[2]\n",
    "            except:\n",
    "                pass\n",
    "            try:\n",
    "                category = JournalCats.at[journal, 'WoS Category']\n",
    "                if type(category) == str:\n",
    "                    category = [category.upper()]\n",
    "                if type(category) == np.ndarray:\n",
    "                    catlist = []\n",
    "                    for item in category:\n",
    "                        catlist.append(item.upper())\n",
    "                    category = catlist\n",
    "            except:\n",
    "                category = ['Unknown']\n",
    "            citeslist = citeslist + category\n",
    "    except:\n",
    "        citeslist = ['Unknown']\n",
    "\n",
    "    cites = {}\n",
    "    for item in citeslist:\n",
    "        if item in cites:\n",
    "            cites[item]=cites[item]+1\n",
    "        else:\n",
    "            cites[item] = 1\n",
    "\n",
    "    return({title:{'WCs':WCs,'Cites':cites}})\n",
    "\n",
    "#RaoStirling takes a list of paper titles, and the prepped record collection.\n",
    "\n",
    "def RaoStirling(samplelist, preppedRC):\n",
    "    if type(samplelist)==str:\n",
    "        samplelist = [samplelist]\n",
    "    n = len(samplelist)\n",
    "    qi = {}\n",
    "    for title in samplelist:\n",
    "        line = preppedRC[title]['WCs']\n",
    "        dic = {}\n",
    "        qi_N = 0.0\n",
    "        for item in line:\n",
    "            if item in dic:\n",
    "                dic[item] = dic[item] +line[item]\n",
    "            else:\n",
    "                dic[item] = line[item]\n",
    "            qi_N = qi_N +line[item]\n",
    "        for WC in dic:\n",
    "            if WC in qi:\n",
    "                qi[WC] = qi[WC] + dic[WC] / qi_N * (1 / n)\n",
    "            else:\n",
    "                qi[WC] = dic[WC] / qi_N * (1 / n)\n",
    "    qj = {}\n",
    "    for title in samplelist:\n",
    "        line = preppedRC[title]['Cites']\n",
    "        dic = {}\n",
    "        qj_N = 0.0\n",
    "        for item in line:\n",
    "            if item in dic:\n",
    "                dic[item] = dic[item] + line[item]\n",
    "            else:\n",
    "                dic[item] = line[item]\n",
    "            qj_N = qj_N + line[item]\n",
    "        for WC in dic:\n",
    "            if WC in qj:\n",
    "                qj[WC]= qj[WC]+dic[WC]/qj_N*(1/n)\n",
    "            else:\n",
    "                qj[WC] = dic[WC]/qj_N*(1/n)\n",
    "    SDI = 0\n",
    "    for WCi in qi:\n",
    "        for WCj in qj:\n",
    "            try:\n",
    "                invdistance = float(Cosciting.loc[WCi.upper(), WCj.upper()])\n",
    "            except :\n",
    "                invdistance = 1\n",
    "            SDI = SDI + (1-invdistance)*qi[WCi]*qj[WCj]\n",
    "    return(SDI)"
   ]
  },
  {
   "cell_type": "code",
   "execution_count": 157,
   "metadata": {},
   "outputs": [],
   "source": [
    "titles = {}\n",
    "for R in RC:\n",
    "    titles.update(PaperPrep(R,JournalCats))"
   ]
  },
  {
   "cell_type": "markdown",
   "metadata": {},
   "source": [
    "Calculating the h-index is something new for this project. The h-index was developed in 2005 by physicist Jorge E. Hirsch.  It's value is equal to N papers that have been cited N times.\n",
    "\n",
    "So for example, the h-index of a person's who publications have been cited (7,6,3,1,1,0) is 3, from the papers that have been cited 7,6, and 3 times. \n",
    "\n",
    "This function takes a list, sorts it in descending order, and then moves through it, counting up by one, until it reaches the end of the list or finds a value less than the current count. That value is the h-index"
   ]
  },
  {
   "cell_type": "code",
   "execution_count": 138,
   "metadata": {},
   "outputs": [],
   "source": [
    "def HIndex(h_list):\n",
    "    h_list.sort(reverse=True)\n",
    "    i = 0\n",
    "    if h_list == []:\n",
    "        return(i)\n",
    "    while i < h_list[i]:\n",
    "        i = i + 1\n",
    "        if i == len(h_list):\n",
    "            break\n",
    "    return(i)"
   ]
  },
  {
   "cell_type": "code",
   "execution_count": 139,
   "metadata": {},
   "outputs": [],
   "source": [
    "for author in scientists:\n",
    "    scientists[author]['sdi'] = RaoStirling(scientists[author]['titles'],titles)\n",
    "    scientists[author]['h_index'] =HIndex(scientists[author]['h_tracker'])"
   ]
  },
  {
   "cell_type": "markdown",
   "metadata": {},
   "source": [
    "Now that we've calculated our key stats, it's to time convert back to a dataframe from our row-oriented dictionary"
   ]
  },
  {
   "cell_type": "code",
   "execution_count": 147,
   "metadata": {},
   "outputs": [
    {
     "data": {
      "text/html": [
       "<div>\n",
       "<style scoped>\n",
       "    .dataframe tbody tr th:only-of-type {\n",
       "        vertical-align: middle;\n",
       "    }\n",
       "\n",
       "    .dataframe tbody tr th {\n",
       "        vertical-align: top;\n",
       "    }\n",
       "\n",
       "    .dataframe thead th {\n",
       "        text-align: right;\n",
       "    }\n",
       "</style>\n",
       "<table border=\"1\" class=\"dataframe\">\n",
       "  <thead>\n",
       "    <tr style=\"text-align: right;\">\n",
       "      <th></th>\n",
       "      <th>university</th>\n",
       "      <th>group</th>\n",
       "      <th>rank</th>\n",
       "      <th>unit</th>\n",
       "      <th>interdisciplinary</th>\n",
       "      <th>alias</th>\n",
       "      <th>papers</th>\n",
       "      <th>start_year</th>\n",
       "      <th>sdi</th>\n",
       "      <th>h_index</th>\n",
       "      <th>h_tracker</th>\n",
       "      <th>titles</th>\n",
       "    </tr>\n",
       "  </thead>\n",
       "  <tbody>\n",
       "    <tr>\n",
       "      <th>Anderson, Bradley D.</th>\n",
       "      <td>Kentucky</td>\n",
       "      <td>Bioactive</td>\n",
       "      <td>Professor</td>\n",
       "      <td>College of Pharmacy</td>\n",
       "      <td>Interdisciplinary</td>\n",
       "      <td>A5</td>\n",
       "      <td>53</td>\n",
       "      <td>2006</td>\n",
       "      <td>0.402635</td>\n",
       "      <td>15</td>\n",
       "      <td>[88, 83, 67, 39, 36, 31, 30, 27, 25, 25, 23, 1...</td>\n",
       "      <td>[What determines drug solubility in lipid vehi...</td>\n",
       "    </tr>\n",
       "    <tr>\n",
       "      <th>Bayer, Peter</th>\n",
       "      <td>Duisberg-Essen</td>\n",
       "      <td>CRC1093</td>\n",
       "      <td>Full Professor</td>\n",
       "      <td>Faculty of Biology</td>\n",
       "      <td>Interdisciplinary</td>\n",
       "      <td>A12</td>\n",
       "      <td>57</td>\n",
       "      <td>1996</td>\n",
       "      <td>0.268110</td>\n",
       "      <td>20</td>\n",
       "      <td>[307, 259, 103, 86, 60, 56, 52, 51, 34, 29, 29...</td>\n",
       "      <td>[Human PAPS Synthase Isoforms Are Dynamically ...</td>\n",
       "    </tr>\n",
       "    <tr>\n",
       "      <th>Bhattacharyya, Dibakar</th>\n",
       "      <td>Kentucky</td>\n",
       "      <td>Bioactive</td>\n",
       "      <td>Professor and Director</td>\n",
       "      <td>Department of Chemical and Materials Engineering</td>\n",
       "      <td>Interdisciplinary</td>\n",
       "      <td>A3</td>\n",
       "      <td>43</td>\n",
       "      <td>2006</td>\n",
       "      <td>0.426674</td>\n",
       "      <td>14</td>\n",
       "      <td>[98, 87, 60, 44, 44, 40, 32, 28, 23, 16, 15, 1...</td>\n",
       "      <td>[High Total Dissolved Solids Water Treatment b...</td>\n",
       "    </tr>\n",
       "    <tr>\n",
       "      <th>Brockerhoff, Wolfgang</th>\n",
       "      <td>Duisberg-Essen</td>\n",
       "      <td>NaN</td>\n",
       "      <td>Dr.-Ing</td>\n",
       "      <td>Engineering</td>\n",
       "      <td>Non-Interdisciplinary</td>\n",
       "      <td>B16</td>\n",
       "      <td>3</td>\n",
       "      <td>1996</td>\n",
       "      <td>0.272793</td>\n",
       "      <td>3</td>\n",
       "      <td>[33, 18, 3]</td>\n",
       "      <td>[InAlAs/InGaAs/InP HFET with suppressed impact...</td>\n",
       "    </tr>\n",
       "    <tr>\n",
       "      <th>Carman, Greg P.</th>\n",
       "      <td>UCLA</td>\n",
       "      <td>NaN</td>\n",
       "      <td>Distinguished Professor</td>\n",
       "      <td>Mechanical and Aerospace Engineering</td>\n",
       "      <td>Non-Interdisciplinary</td>\n",
       "      <td>B2</td>\n",
       "      <td>19</td>\n",
       "      <td>2006</td>\n",
       "      <td>0.473499</td>\n",
       "      <td>8</td>\n",
       "      <td>[31, 27, 19, 14, 13, 13, 12, 8, 7, 7, 2, 2, 1,...</td>\n",
       "      <td>[Thin-film nitinol (NiTi): A feasibility study...</td>\n",
       "    </tr>\n",
       "  </tbody>\n",
       "</table>\n",
       "</div>"
      ],
      "text/plain": [
       "                            university      group                     rank  \\\n",
       "Anderson, Bradley D.          Kentucky  Bioactive                Professor   \n",
       "Bayer, Peter            Duisberg-Essen    CRC1093           Full Professor   \n",
       "Bhattacharyya, Dibakar        Kentucky  Bioactive   Professor and Director   \n",
       "Brockerhoff, Wolfgang   Duisberg-Essen        NaN                  Dr.-Ing   \n",
       "Carman, Greg P.                   UCLA        NaN  Distinguished Professor   \n",
       "\n",
       "                                                                    unit  \\\n",
       "Anderson, Bradley D.                                 College of Pharmacy   \n",
       "Bayer, Peter                                         Faculty of Biology    \n",
       "Bhattacharyya, Dibakar  Department of Chemical and Materials Engineering   \n",
       "Brockerhoff, Wolfgang                                        Engineering   \n",
       "Carman, Greg P.                     Mechanical and Aerospace Engineering   \n",
       "\n",
       "                            interdisciplinary alias  papers  start_year  \\\n",
       "Anderson, Bradley D.        Interdisciplinary    A5      53        2006   \n",
       "Bayer, Peter                Interdisciplinary   A12      57        1996   \n",
       "Bhattacharyya, Dibakar      Interdisciplinary    A3      43        2006   \n",
       "Brockerhoff, Wolfgang   Non-Interdisciplinary   B16       3        1996   \n",
       "Carman, Greg P.         Non-Interdisciplinary    B2      19        2006   \n",
       "\n",
       "                             sdi  h_index  \\\n",
       "Anderson, Bradley D.    0.402635       15   \n",
       "Bayer, Peter            0.268110       20   \n",
       "Bhattacharyya, Dibakar  0.426674       14   \n",
       "Brockerhoff, Wolfgang   0.272793        3   \n",
       "Carman, Greg P.         0.473499        8   \n",
       "\n",
       "                                                                h_tracker  \\\n",
       "Anderson, Bradley D.    [88, 83, 67, 39, 36, 31, 30, 27, 25, 25, 23, 1...   \n",
       "Bayer, Peter            [307, 259, 103, 86, 60, 56, 52, 51, 34, 29, 29...   \n",
       "Bhattacharyya, Dibakar  [98, 87, 60, 44, 44, 40, 32, 28, 23, 16, 15, 1...   \n",
       "Brockerhoff, Wolfgang                                         [33, 18, 3]   \n",
       "Carman, Greg P.         [31, 27, 19, 14, 13, 13, 12, 8, 7, 7, 2, 2, 1,...   \n",
       "\n",
       "                                                                   titles  \n",
       "Anderson, Bradley D.    [What determines drug solubility in lipid vehi...  \n",
       "Bayer, Peter            [Human PAPS Synthase Isoforms Are Dynamically ...  \n",
       "Bhattacharyya, Dibakar  [High Total Dissolved Solids Water Treatment b...  \n",
       "Brockerhoff, Wolfgang   [InAlAs/InGaAs/InP HFET with suppressed impact...  \n",
       "Carman, Greg P.         [Thin-film nitinol (NiTi): A feasibility study...  "
      ]
     },
     "execution_count": 147,
     "metadata": {},
     "output_type": "execute_result"
    }
   ],
   "source": [
    "df2 = pd.DataFrame.from_dict(scientists, orient='index')\n",
    "df2.head()"
   ]
  },
  {
   "cell_type": "code",
   "execution_count": 148,
   "metadata": {},
   "outputs": [
    {
     "data": {
      "text/html": [
       "<div>\n",
       "<style scoped>\n",
       "    .dataframe tbody tr th:only-of-type {\n",
       "        vertical-align: middle;\n",
       "    }\n",
       "\n",
       "    .dataframe tbody tr th {\n",
       "        vertical-align: top;\n",
       "    }\n",
       "\n",
       "    .dataframe thead th {\n",
       "        text-align: right;\n",
       "    }\n",
       "</style>\n",
       "<table border=\"1\" class=\"dataframe\">\n",
       "  <thead>\n",
       "    <tr style=\"text-align: right;\">\n",
       "      <th></th>\n",
       "      <th>interdisciplinary</th>\n",
       "      <th>papers</th>\n",
       "      <th>start_year</th>\n",
       "      <th>sdi</th>\n",
       "      <th>h_index</th>\n",
       "    </tr>\n",
       "    <tr>\n",
       "      <th>alias</th>\n",
       "      <th></th>\n",
       "      <th></th>\n",
       "      <th></th>\n",
       "      <th></th>\n",
       "      <th></th>\n",
       "    </tr>\n",
       "  </thead>\n",
       "  <tbody>\n",
       "    <tr>\n",
       "      <th>A5</th>\n",
       "      <td>Interdisciplinary</td>\n",
       "      <td>53</td>\n",
       "      <td>2006</td>\n",
       "      <td>0.402635</td>\n",
       "      <td>15</td>\n",
       "    </tr>\n",
       "    <tr>\n",
       "      <th>A12</th>\n",
       "      <td>Interdisciplinary</td>\n",
       "      <td>57</td>\n",
       "      <td>1996</td>\n",
       "      <td>0.268110</td>\n",
       "      <td>20</td>\n",
       "    </tr>\n",
       "    <tr>\n",
       "      <th>A3</th>\n",
       "      <td>Interdisciplinary</td>\n",
       "      <td>43</td>\n",
       "      <td>2006</td>\n",
       "      <td>0.426674</td>\n",
       "      <td>14</td>\n",
       "    </tr>\n",
       "    <tr>\n",
       "      <th>B16</th>\n",
       "      <td>Non-Interdisciplinary</td>\n",
       "      <td>3</td>\n",
       "      <td>1996</td>\n",
       "      <td>0.272793</td>\n",
       "      <td>3</td>\n",
       "    </tr>\n",
       "    <tr>\n",
       "      <th>B2</th>\n",
       "      <td>Non-Interdisciplinary</td>\n",
       "      <td>19</td>\n",
       "      <td>2006</td>\n",
       "      <td>0.473499</td>\n",
       "      <td>8</td>\n",
       "    </tr>\n",
       "  </tbody>\n",
       "</table>\n",
       "</div>"
      ],
      "text/plain": [
       "           interdisciplinary  papers  start_year       sdi  h_index\n",
       "alias                                                              \n",
       "A5         Interdisciplinary      53        2006  0.402635       15\n",
       "A12        Interdisciplinary      57        1996  0.268110       20\n",
       "A3         Interdisciplinary      43        2006  0.426674       14\n",
       "B16    Non-Interdisciplinary       3        1996  0.272793        3\n",
       "B2     Non-Interdisciplinary      19        2006  0.473499        8"
      ]
     },
     "execution_count": 148,
     "metadata": {},
     "output_type": "execute_result"
    }
   ],
   "source": [
    "df2=df2[['alias', 'interdisciplinary','papers','start_year','sdi','h_index']]\n",
    "df2.set_index(['alias'], inplace=True)\n",
    "df2.head()\n"
   ]
  },
  {
   "cell_type": "code",
   "execution_count": 151,
   "metadata": {},
   "outputs": [],
   "source": [
    "df2.sort_index(inplace=True)\n",
    "df2.to_csv(\"3-scientometrics101_EDA.csv\")"
   ]
  },
  {
   "cell_type": "markdown",
   "metadata": {},
   "source": [
    "# Part 2: Exploratory Data Analysis\n",
    "\n",
    "All of the code above won't work for you, because for reasons of protecting my subjects' confidentiality, I can't share this dataset.  You can run this on the example Kip Thorne data with your own Tags.csv file, but I can't guarentee the results. However, I create an anonymized data file, 3-scientometrics101_EDA.csv, to use going forward.\n",
    "\n",
    "And as always, the first step is to just take a look at the data with .head(), .describe(), and a quick pairplot. One thing to note is a few of the people we sampled aren't in the dataset at all. They didn't have any papers indexed by Web of Science."
   ]
  },
  {
   "cell_type": "code",
   "execution_count": 167,
   "metadata": {},
   "outputs": [
    {
     "name": "stdout",
     "output_type": "stream",
     "text": [
      "  alias  interdisciplinary  papers  start_year       sdi  h_index\n",
      "0    A1  Interdisciplinary       4        2014  0.160726        2\n",
      "1   A10  Interdisciplinary      22        2007  0.313663        9\n",
      "2   A11  Interdisciplinary     224        2006  0.254990       57\n",
      "3   A12  Interdisciplinary      57        1996  0.268110       20\n",
      "4   A13  Interdisciplinary      61        2008  0.489333       17\n",
      "          papers   start_year        sdi    h_index\n",
      "count   40.00000    40.000000  40.000000  40.000000\n",
      "mean    40.10000  2008.150000   0.338348  12.900000\n",
      "std     52.72804     5.245511   0.152143  13.360485\n",
      "min      0.00000  1994.000000   0.000000   0.000000\n",
      "25%     11.00000  2006.000000   0.271623   5.000000\n",
      "50%     25.50000  2007.000000   0.356760  10.000000\n",
      "75%     46.25000  2011.000000   0.446417  16.000000\n",
      "max    224.00000  2018.000000   0.559330  62.000000\n"
     ]
    }
   ],
   "source": [
    "data = pd.read_csv(\"3-scientometrics101_EDA.csv\")\n",
    "print(data.head())\n",
    "print(data.describe())"
   ]
  },
  {
   "cell_type": "code",
   "execution_count": 176,
   "metadata": {},
   "outputs": [
    {
     "data": {
      "text/plain": [
       "<seaborn.axisgrid.PairGrid at 0x7f448353a0b8>"
      ]
     },
     "execution_count": 176,
     "metadata": {},
     "output_type": "execute_result"
    },
    {
     "data": {
      "image/png": "[encoded data removed]",
      "text/plain": [
       "<Figure size 860.25x720 with 20 Axes>"
      ]
     },
     "metadata": {},
     "output_type": "display_data"
    }
   ],
   "source": [
    "import seaborn as sns\n",
    "import matplotlib.pyplot as plt\n",
    "%matplotlib inline\n",
    "\n",
    "sns.pairplot(data, hue='interdisciplinary')"
   ]
  },
  {
   "cell_type": "markdown",
   "metadata": {},
   "source": [
    "A few things that immediately pop out are the three outliers, scientists who have authored over 200 papers. The straight line in the start year data around 2005 is something that I've seen before, and is probably an artifact.  I think that in 2005 Web of Science began indexing many more journals. It looks like there's a linear relationship between papers and the h-index, which is not surprising. And I can't see any clear way to distinguish interdisciplinary and non-interdisciplinary scholars. "
   ]
  },
  {
   "cell_type": "code",
   "execution_count": 185,
   "metadata": {},
   "outputs": [
    {
     "data": {
      "text/plain": [
       "<seaborn.axisgrid.FacetGrid at 0x7f4482388c18>"
      ]
     },
     "execution_count": 185,
     "metadata": {},
     "output_type": "execute_result"
    },
    {
     "data": {
      "image/png": "[encoded data removed]",
      "text/plain": [
       "<Figure size 500.25x360 with 1 Axes>"
      ]
     },
     "metadata": {},
     "output_type": "display_data"
    }
   ],
   "source": [
    "sns.lmplot( x=\"papers\", y=\"sdi\", data=data, fit_reg=False, hue='interdisciplinary', legend=True)"
   ]
  },
  {
   "cell_type": "markdown",
   "metadata": {},
   "source": [
    "Looking at the plot of papers vs SDI in closer detail, we see pretty much the same thing, or lack of pattern. "
   ]
  },
  {
   "cell_type": "code",
   "execution_count": 218,
   "metadata": {},
   "outputs": [
    {
     "name": "stderr",
     "output_type": "stream",
     "text": [
      "/home/michael/anaconda3/lib/python3.6/site-packages/matplotlib/axes/_axes.py:6462: UserWarning: The 'normed' kwarg is deprecated, and has been replaced by the 'density' kwarg.\n",
      "  warnings.warn(\"The 'normed' kwarg is deprecated, and has been \"\n",
      "/home/michael/anaconda3/lib/python3.6/site-packages/matplotlib/axes/_axes.py:6462: UserWarning: The 'normed' kwarg is deprecated, and has been replaced by the 'density' kwarg.\n",
      "  warnings.warn(\"The 'normed' kwarg is deprecated, and has been \"\n"
     ]
    },
    {
     "data": {
      "image/png": "[encoded data removed]",
      "text/plain": [
       "<Figure size 432x288 with 1 Axes>"
      ]
     },
     "metadata": {},
     "output_type": "display_data"
    }
   ],
   "source": [
    "p1 = sns.distplot(data.sdi[data.interdisciplinary=='Interdisciplinary'], color='blue', bins=8, label='Interdisciplinary')\n",
    "p2 = sns.distplot(data.sdi[data.interdisciplinary=='Non-Interdisciplinary'], color='orange', bins=8, label='Non-Interdisciplinary')"
   ]
  },
  {
   "cell_type": "markdown",
   "metadata": {},
   "source": [
    "Plotting the histograms of SDI scores together lets us see that there might not be as much difference between the two groups in our sample as we thought. It may be time to pause and re-evl"
   ]
  }
 ],
 "metadata": {
  "kernelspec": {
   "display_name": "Python 3",
   "language": "python",
   "name": "python3"
  },
  "language_info": {
   "codemirror_mode": {
    "name": "ipython",
    "version": 3
   },
   "file_extension": ".py",
   "mimetype": "text/x-python",
   "name": "python",
   "nbconvert_exporter": "python",
   "pygments_lexer": "ipython3",
   "version": "3.6.5"
  }
 },
 "nbformat": 4,
 "nbformat_minor": 2
}
